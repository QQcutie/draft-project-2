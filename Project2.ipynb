{
 "cells": [
  {
   "cell_type": "markdown",
   "id": "9d51a87a",
   "metadata": {},
   "source": [
    "# Project 2 Jupyter Notebook\n",
    "## by Qingyue Li"
   ]
  },
  {
   "cell_type": "code",
   "execution_count": null,
   "id": "a815301b",
   "metadata": {},
   "outputs": [],
   "source": [
    "## scientific question\n",
    "## background (harvest, function)\n",
    "## hypothesis (if-then)\n",
    "## what analyses were done and how the data was downloaded for the project"
   ]
  },
  {
   "cell_type": "code",
   "execution_count": null,
   "id": "38251326",
   "metadata": {},
   "outputs": [],
   "source": [
    "## package loading\n",
    "## definition\n",
    "\n",
    "from Bio import SeqIO\n",
    "import numpy as np\n",
    "import matplotlib.pyplot as plt\n",
    "from Bio import pairwise2\n",
    "\n",
    "from Bio.Blast import NCBIWWW\n",
    "from Bio.Blast.Applications import NcbiblastnCommandline \n",
    "from Bio.Blast import NCBIXML\n",
    "\n",
    "\n"
   ]
  },
  {
   "cell_type": "code",
   "execution_count": 20,
   "id": "77b13aea",
   "metadata": {},
   "outputs": [
    {
     "ename": "ApplicationError",
     "evalue": "Non-zero return code 127 from 'blastn -out results.xml -outfmt 5 -query search.fasta -db alun', message '/bin/sh: blastn: command not found'",
     "output_type": "error",
     "traceback": [
      "\u001b[0;31m---------------------------------------------------------------------------\u001b[0m",
      "\u001b[0;31mApplicationError\u001b[0m                          Traceback (most recent call last)",
      "\u001b[0;32m<ipython-input-20-f90be4c2dc27>\u001b[0m in \u001b[0;36m<module>\u001b[0;34m\u001b[0m\n\u001b[1;32m     15\u001b[0m blastn_cline = NcbiblastnCommandline(query = \"search.fasta\", db = \"alun\", \n\u001b[1;32m     16\u001b[0m                                      outfmt = 5, out = \"results.xml\") \n\u001b[0;32m---> 17\u001b[0;31m \u001b[0mstdout\u001b[0m\u001b[0;34m,\u001b[0m \u001b[0mstderr\u001b[0m \u001b[0;34m=\u001b[0m \u001b[0mblastn_cline\u001b[0m\u001b[0;34m(\u001b[0m\u001b[0;34m)\u001b[0m\u001b[0;34m\u001b[0m\u001b[0;34m\u001b[0m\u001b[0m\n\u001b[0m\u001b[1;32m     18\u001b[0m \u001b[0;34m\u001b[0m\u001b[0m\n\u001b[1;32m     19\u001b[0m \u001b[0;32mfrom\u001b[0m \u001b[0mBio\u001b[0m\u001b[0;34m.\u001b[0m\u001b[0mBlast\u001b[0m \u001b[0;32mimport\u001b[0m \u001b[0mNCBIXML\u001b[0m\u001b[0;34m\u001b[0m\u001b[0;34m\u001b[0m\u001b[0m\n",
      "\u001b[0;32m/opt/anaconda3/lib/python3.8/site-packages/Bio/Application/__init__.py\u001b[0m in \u001b[0;36m__call__\u001b[0;34m(self, stdin, stdout, stderr, cwd, env)\u001b[0m\n\u001b[1;32m    572\u001b[0m \u001b[0;34m\u001b[0m\u001b[0m\n\u001b[1;32m    573\u001b[0m         \u001b[0;32mif\u001b[0m \u001b[0mreturn_code\u001b[0m\u001b[0;34m:\u001b[0m\u001b[0;34m\u001b[0m\u001b[0;34m\u001b[0m\u001b[0m\n\u001b[0;32m--> 574\u001b[0;31m             \u001b[0;32mraise\u001b[0m \u001b[0mApplicationError\u001b[0m\u001b[0;34m(\u001b[0m\u001b[0mreturn_code\u001b[0m\u001b[0;34m,\u001b[0m \u001b[0mstr\u001b[0m\u001b[0;34m(\u001b[0m\u001b[0mself\u001b[0m\u001b[0;34m)\u001b[0m\u001b[0;34m,\u001b[0m \u001b[0mstdout_str\u001b[0m\u001b[0;34m,\u001b[0m \u001b[0mstderr_str\u001b[0m\u001b[0;34m)\u001b[0m\u001b[0;34m\u001b[0m\u001b[0;34m\u001b[0m\u001b[0m\n\u001b[0m\u001b[1;32m    575\u001b[0m         \u001b[0;32mreturn\u001b[0m \u001b[0mstdout_str\u001b[0m\u001b[0;34m,\u001b[0m \u001b[0mstderr_str\u001b[0m\u001b[0;34m\u001b[0m\u001b[0;34m\u001b[0m\u001b[0m\n\u001b[1;32m    576\u001b[0m \u001b[0;34m\u001b[0m\u001b[0m\n",
      "\u001b[0;31mApplicationError\u001b[0m: Non-zero return code 127 from 'blastn -out results.xml -outfmt 5 -query search.fasta -db alun', message '/bin/sh: blastn: command not found'"
     ]
    }
   ],
   "source": [
    "#BLASTP on 3 allergenic protein sequences\n",
    "\n",
    "from Bio.Blast import NCBIWWW\n",
    "sequence_data = open(\"allergen_sequence.fasta\").read() \n",
    "sequence_data \n",
    "\n",
    "result_handle = NCBIWWW.qblast(\"blastp\", \"nr\", sequence_data, entrez_query=\"txid3702[ORGN]\") \n",
    "result_handle\n",
    "\n",
    "with open('results.xml', 'w') as save_file: \n",
    "    blast_results = result_handle.read() \n",
    "    save_file.write(blast_results)\n",
    "\n",
    "from Bio.Blast.Applications import NcbiblastnCommandline     \n",
    "blastn_cline = NcbiblastnCommandline(query = \"search.fasta\", db = \"alun\", \n",
    "                                     outfmt = 5, out = \"results.xml\") \n",
    "stdout, stderr = blastn_cline()\n",
    "\n",
    "from Bio.Blast import NCBIXML\n",
    "E_VALUE_THRESH = 1e-20 \n",
    "for record in NCBIXML.parse(open(\"results.xml\")): \n",
    "    if record.alignments: \n",
    "        print(\"\\n\") \n",
    "        print(\"query: %s\" % record.query[:100]) \n",
    "        for align in record.alignments: \n",
    "            for hsp in align.hsps:  \n",
    "                 if hsp.expect < E_VALUE_THRESH: \n",
    "                    print(\"match: %s \" % align.title[:100])"
   ]
  },
  {
   "cell_type": "code",
   "execution_count": null,
   "id": "d3ceccb2",
   "metadata": {},
   "outputs": [],
   "source": [
    "# protein structure analysis\n",
    "\n",
    "from Bio.PDB import *\n",
    "import nglview as nv\n",
    "import ipywidgets\n",
    "\n",
    "pdb_parser = PDBParser()\n",
    "structure = pdb_parser.get_structure(\"PHA-L\", \"Data/1FAT.pdb\")\n",
    "view = nv.show_biopython(structure)\n",
    "\n",
    "#accessing\n",
    "mmcif_dict = MMCIFDict.MMCIFDict(\"fa/1fat.cif\")\n",
    "len(mmcif_dict) \n",
    "\n",
    "# .get_residues() method in a loop\n",
    "for model in structure:\n",
    "    for residue in model.get_residues():\n",
    "        print(residue)\n",
    "        \n",
    "#build polypeptides\n",
    "polypeptide_builder = CaPPBuilder()\n",
    "counter = 1\n",
    "for polypeptide in polypeptide_builder.build_peptides(structure):\n",
    "    seq = polypeptide.get_sequence()\n",
    "    print(f\"Sequence: {counter}, Length: {len(seq)}\")\n",
    "    print(seq)\n",
    "    counter += 1\n",
    "    \n",
    "\n",
    "#residue analysis    \n",
    "from Bio.SeqUtils.ProtParam import ProteinAnalysis\n",
    "analyzed_seq = ProteinAnalysis(str(seq))\n",
    "\n",
    "#molecular weight\n",
    "analyzed_seq.molecular_weight()\n",
    "\n"
   ]
  },
  {
   "cell_type": "markdown",
   "id": "2fb5882d",
   "metadata": {},
   "source": [
    "## need to make 3 heatplots for comparison between 3 sequences"
   ]
  },
  {
   "cell_type": "code",
   "execution_count": null,
   "id": "91be2bad",
   "metadata": {},
   "outputs": [],
   "source": [
    "# pairwise for heatlplot\n",
    "\n",
    "Fasta = list(SeqIO.parse(\"allergen_sequence.fasta\", \"fasta\"))\n",
    "\n",
    "size = len(Fasta)\n",
    "\n",
    "#Initiate variable i and j for for loop\n",
    "i = 0\n",
    "j = 0\n",
    "\n",
    "#Initiate an empy numpy matrix that is the length of the fasta file\n",
    "alignments_score = np.empty(shape=(size,size))\n",
    "\n",
    "\n",
    "#Nested for loop to do pairwise sequence alignment for each pair of kinases\n",
    "def pairwise_seq_heatmap(my_numpy_array, size):\n",
    "    for i in range(size):\n",
    "        for j in range(size):\n",
    "        # Define two sequences to be aligned\n",
    "            X = Fasta[i].seq\n",
    "            Y = Fasta[j].seq\n",
    "            print(Fasta[i].id)\n",
    "\n",
    "        # Get a list of the global alignments between the two sequences ACGGGT and ACG\n",
    "        # No parameters. Identical characters have score of 1, else 0.\n",
    "        # No gap penalties.\n",
    "            my_numpy_array[i,j] = int(pairwise2.align.globalxx(X, Y, score_only=True))\n",
    "\n",
    "    return my_numpy_array\n",
    "\n",
    "# Check that the for loop correctly created the matrix\n",
    "My_alignment_Scores = pairwise_seq_heatmap(alignments_score, size)\n",
    "\n",
    "#Create subplot\n",
    "fig, ax = plt.subplots()\n",
    "\n",
    "plt.imshow(alignments_score)\n",
    "\n",
    "# Construct the heat map to show the axes\n",
    "im = ax.imshow(alignments_score)\n",
    "\n",
    "# Add a colorbar to the right of the heatmap\n",
    "cbar = ax.figure.colorbar(im)\n",
    "\n",
    "# Show the plot\n",
    "plt.show()"
   ]
  },
  {
   "cell_type": "markdown",
   "id": "1eedfb74",
   "metadata": {},
   "source": [
    "# Gene Sequence Sources\n",
    "\n",
    "Arachis hypogaea (peanut)\n",
    "Arachis hypogaea main allergen Ara h1 mRNA, complete cds\n",
    "https://www.ncbi.nlm.nih.gov/nuccore/193850560\n",
    "    \n",
    "Pistacia vera (pistachio)\n",
    "Pistacia vera Pis v 1 allergen 2S albumin mRNA, complete cds\n",
    "https://www.ncbi.nlm.nih.gov/nuccore/110349080\n",
    "\n",
    "Anacardium occidentale (cashew)\n",
    "Anacardium occidentale allergen Ana o 2 mRNA, partial cds\n",
    "https://www.ncbi.nlm.nih.gov/nuccore/25991542"
   ]
  }
 ],
 "metadata": {
  "kernelspec": {
   "display_name": "Python 3",
   "language": "python",
   "name": "python3"
  },
  "language_info": {
   "codemirror_mode": {
    "name": "ipython",
    "version": 3
   },
   "file_extension": ".py",
   "mimetype": "text/x-python",
   "name": "python",
   "nbconvert_exporter": "python",
   "pygments_lexer": "ipython3",
   "version": "3.8.8"
  }
 },
 "nbformat": 4,
 "nbformat_minor": 5
}
